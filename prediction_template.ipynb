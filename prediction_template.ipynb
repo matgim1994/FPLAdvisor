{
 "cells": [
  {
   "cell_type": "code",
   "execution_count": 84,
   "id": "77088641-f4b2-4cb1-a868-18cd948c3550",
   "metadata": {},
   "outputs": [],
   "source": [
    "import pandas as pd\n",
    "import requests\n",
    "import numpy as np\n",
    "from sklearn.metrics import root_mean_squared_error\n",
    "from sklearn.base import BaseEstimator, TransformerMixin\n",
    "from sklearn.metrics import root_mean_squared_error\n",
    "import numpy as np\n",
    "from sklearn.model_selection import train_test_split"
   ]
  },
  {
   "cell_type": "code",
   "execution_count": 58,
   "id": "d4acc3b0-232a-4f4a-b1dd-165d38f99eac",
   "metadata": {},
   "outputs": [],
   "source": [
    "player_id = 355 \n",
    "url_player = f'https://fantasy.premierleague.com/api/element-summary/{player_id}/'\n",
    "api_result_player = requests.get(url_player).json()\n",
    "stats = api_result_player['history']\n",
    "df_stats = pd.json_normalize(stats)\n",
    "df_stats.index = np.arange(1, len(df_stats) + 1)\n",
    "features = ['opponent_team', 'was_home', 'minutes', 'points', 'goals', 'assists', 'expected_goals', 'expected_assists']\n",
    "df_stats.columns.values\n",
    "\n",
    "features = ['player_id', 'opponent_team', 'was_home', 'total_points']"
   ]
  },
  {
   "cell_type": "code",
   "execution_count": 59,
   "id": "ef5e9e08-8233-416f-a563-419745311145",
   "metadata": {},
   "outputs": [],
   "source": [
    "df_stats = df_stats[features]\n",
    "df_stats['avg_points'] = df_stats.total_points.rolling(window=3, closed = 'left', min_periods = 1).mean()"
   ]
  },
  {
   "cell_type": "code",
   "execution_count": 60,
   "id": "c28059ec-9e3d-454a-8899-bb94673e0ef7",
   "metadata": {},
   "outputs": [],
   "source": [
    "df_stats.avg_points = df_stats.avg_points.fillna(1)"
   ]
  },
  {
   "cell_type": "code",
   "execution_count": 96,
   "id": "e39c7ad7-68b6-4fb6-94dd-0b49c7e38c5a",
   "metadata": {},
   "outputs": [],
   "source": [
    "X_train, X_test, y_train, y_test = train_test_split(df_stats[['avg_points']], df_stats['total_points'], test_size=0.3, random_state=0)"
   ]
  },
  {
   "cell_type": "code",
   "execution_count": 79,
   "id": "1cdd5623-5fa3-4242-97c2-6a8b9f88a953",
   "metadata": {},
   "outputs": [],
   "source": [
    "class MyBaselineEstimator(BaseEstimator, TransformerMixin):\n",
    "    def __init__(self, column_name):\n",
    "        self.column_name = column_name\n",
    "\n",
    "    def fit(self, X, y=None):\n",
    "        return self\n",
    "\n",
    "    def transform(self, X):\n",
    "        return X[self.column_name]\n",
    "\n",
    "    def predict(self, X):\n",
    "        return self.transform(X)"
   ]
  },
  {
   "cell_type": "code",
   "execution_count": 85,
   "id": "fb79b220-0e2c-412d-931c-e3f73f0ec050",
   "metadata": {},
   "outputs": [],
   "source": [
    "from sklearn.pipeline import Pipeline\n",
    "\n",
    "pipeline_champion = Pipeline([\n",
    "    ('classifier', MyBaselineEstimator('avg_points')),\n",
    "])\n",
    "pipeline_challenger = Pipeline([\n",
    "    ('LinearRegression', LinearRegression())\n",
    "     ])"
   ]
  },
  {
   "cell_type": "code",
   "execution_count": 93,
   "id": "64279823-40af-44bf-ac34-b4d3d7ac1923",
   "metadata": {},
   "outputs": [],
   "source": [
    "def compare_two_pipelines_performance(pipeline_champion, pipeline_challenger,\n",
    "                                      X_train, X_test, y_train, y_test):\n",
    "    # Train pipeline1\n",
    "    pipeline_champion.fit(X_train, y_train)\n",
    "    y_pred_champion = pipeline_champion.predict(X_test)\n",
    "    # Train pipeline2\n",
    "    pipeline_challenger.fit(X_train, y_train)\n",
    "    y_pred_challenger = pipeline_challenger.predict(X_test)\n",
    "    # Compute the accuracy of pipeline1\n",
    "    champion_accuracy = root_mean_squared_error(y_test, y_pred_champion)\n",
    "    # Compute the accuracy of pipeline2\n",
    "    challenger_accuracy = root_mean_squared_error(y_test, y_pred_challenger)\n",
    "    print(f\"pipeline_champion accuracy: {champion_accuracy}\")\n",
    "    print(f\"pipeline_challenger accuracy: {challenger_accuracy}\")\n",
    "    return champion_accuracy, challenger_accuracy"
   ]
  },
  {
   "cell_type": "code",
   "execution_count": 94,
   "id": "f0dca1ab-f1a8-4b20-bff4-51d451cad8a4",
   "metadata": {},
   "outputs": [
    {
     "name": "stdout",
     "output_type": "stream",
     "text": [
      "pipeline_champion accuracy: 4.288798299019575\n",
      "pipeline_challenger accuracy: 4.351701086384168\n"
     ]
    },
    {
     "data": {
      "text/plain": [
       "(4.288798299019575, 4.351701086384168)"
      ]
     },
     "execution_count": 94,
     "metadata": {},
     "output_type": "execute_result"
    }
   ],
   "source": [
    "compare_two_pipelines_performance(pipeline_champion, pipeline_challenger, X_train, X_test, y_train, y_test)"
   ]
  },
  {
   "cell_type": "code",
   "execution_count": 98,
   "id": "0a635fa0-9e64-476a-a23a-df3e1495b4a4",
   "metadata": {},
   "outputs": [],
   "source": [
    "###  TO DO: DODAĆ DO df_players_stats KOLUMNĘ avg_points A NASTĘPNIE WYKONAĆ PORÓWNANIE PIPELINE"
   ]
  },
  {
   "cell_type": "code",
   "execution_count": null,
   "id": "2397bed3-fb4b-4fe5-b88f-27fdf611ae63",
   "metadata": {},
   "outputs": [],
   "source": []
  },
  {
   "cell_type": "code",
   "execution_count": null,
   "id": "9004214f-5df3-44ac-9429-a733952d3aa3",
   "metadata": {},
   "outputs": [],
   "source": []
  },
  {
   "cell_type": "code",
   "execution_count": null,
   "id": "c2c68d82-26c4-4519-8f64-acf065515be8",
   "metadata": {},
   "outputs": [],
   "source": []
  },
  {
   "cell_type": "code",
   "execution_count": null,
   "id": "f91e3566-6533-4524-908b-ff62c2b3ba0d",
   "metadata": {},
   "outputs": [],
   "source": []
  },
  {
   "cell_type": "code",
   "execution_count": null,
   "id": "791731e5-bb75-4242-b486-ddb5aae975a8",
   "metadata": {},
   "outputs": [],
   "source": []
  }
 ],
 "metadata": {
  "kernelspec": {
   "display_name": "Python 3 (ipykernel)",
   "language": "python",
   "name": "python3"
  },
  "language_info": {
   "codemirror_mode": {
    "name": "ipython",
    "version": 3
   },
   "file_extension": ".py",
   "mimetype": "text/x-python",
   "name": "python",
   "nbconvert_exporter": "python",
   "pygments_lexer": "ipython3",
   "version": "3.9.19"
  }
 },
 "nbformat": 4,
 "nbformat_minor": 5
}
