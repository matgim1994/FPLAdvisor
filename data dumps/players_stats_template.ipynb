{
 "cells": [
  {
   "cell_type": "code",
   "execution_count": 1,
   "id": "bad00855-aa80-45ba-aa61-552af858cff3",
   "metadata": {},
   "outputs": [],
   "source": [
    "import pandas as pd\n",
    "import requests\n",
    "import os\n",
    "import numpy as np\n",
    "\n",
    "import django\n",
    "os.environ[\"DJANGO_ALLOW_ASYNC_UNSAFE\"] = \"true\" # to be able to make async database calls from the notebook\n",
    "os.environ[\"DJANGO_SETTINGS_MODULE\"] = \"fpl.settings\"\n",
    "django.setup()"
   ]
  },
  {
   "cell_type": "code",
   "execution_count": null,
   "id": "9c2e1c2d-104f-4cdc-aa15-63db5acc640b",
   "metadata": {},
   "outputs": [],
   "source": []
  },
  {
   "cell_type": "code",
   "execution_count": 38,
   "id": "6fe0bca3-d9bd-41ff-8c65-024daac3aee4",
   "metadata": {},
   "outputs": [
    {
     "name": "stdout",
     "output_type": "stream",
     "text": [
      "Error fetching data for player 612: 'history'\n"
     ]
    }
   ],
   "source": [
    "# d = {'element': [], 'fixture': [], 'total_points': []}\n",
    "# df_players_stats = pd.DataFrame(d)\n",
    "# columns = ['element', 'fixture', 'total_points']\n",
    "\n",
    "# for i in range(1, 839):\n",
    "#     url = f'https://fantasy.premierleague.com/api/element-summary/{i}/'\n",
    "#     try:\n",
    "#         api_result = requests.get(url).json()\n",
    "#         stats = api_result['history']\n",
    "#         df_stats = pd.json_normalize(stats)\n",
    "#         df_stats.index = np.arange(1, len(df_stats) + 1)\n",
    "#         df_stats = df_stats.reindex(columns=columns)\n",
    "#         df_players_stats = pd.concat([df_players_stats, df_stats])\n",
    "#     except Exception as e:\n",
    "#         print(f'Error fetching data for player {i}: {e}')\n",
    "#         continue\n",
    "\n",
    "# df_players_stats.index = np.arange(1, len(df_players_stats) + 1)\n",
    "# df_players_stats.to_csv(path_or_buf='df_players_stats.csv', index = False)\n",
    "### POWYŻSZY KOD JEST WYHASHOWANY PONIEWAŻ WYKONUJE SIĘ DŁUGO, W RAZIE SZYBKIEGO PRZEKLIKIWANIA NOTEBOOKA W PRZYSZŁOŚCI"
   ]
  },
  {
   "cell_type": "code",
   "execution_count": 13,
   "id": "dc22903c-55f0-4a42-9d7b-6fe5b6ab5c44",
   "metadata": {},
   "outputs": [],
   "source": [
    "\n",
    "df_players_stats = pd.read_csv('df_players_stats.csv')\n",
    "df_players_stats['predicted_points'] = 0\n",
    "\n",
    "df_players_stats = df_players_stats.astype(int)"
   ]
  },
  {
   "cell_type": "code",
   "execution_count": 16,
   "id": "58bd7b4f-a404-429e-9ee5-e69c1e1dac8f",
   "metadata": {},
   "outputs": [],
   "source": [
    "from fpl.models import PointsInFixture\n",
    "\n",
    "for index, row in df_players_stats.iterrows():\n",
    "    p = PointsInFixture(player=row['element'], fixture = row['fixture'], predicted_points = row['predicted_points'], actual_points = row['total_points'])\n",
    "\n",
    "    p.save()"
   ]
  },
  {
   "cell_type": "code",
   "execution_count": null,
   "id": "5bd4cb97-ea61-4913-85d8-2bb8c62380ca",
   "metadata": {},
   "outputs": [],
   "source": []
  },
  {
   "cell_type": "code",
   "execution_count": null,
   "id": "2e8985c6-0ef7-44a2-bd92-1270276b44d5",
   "metadata": {},
   "outputs": [],
   "source": []
  }
 ],
 "metadata": {
  "kernelspec": {
   "display_name": "Python 3 (ipykernel)",
   "language": "python",
   "name": "python3"
  },
  "language_info": {
   "codemirror_mode": {
    "name": "ipython",
    "version": 3
   },
   "file_extension": ".py",
   "mimetype": "text/x-python",
   "name": "python",
   "nbconvert_exporter": "python",
   "pygments_lexer": "ipython3",
   "version": "3.9.19"
  }
 },
 "nbformat": 4,
 "nbformat_minor": 5
}
