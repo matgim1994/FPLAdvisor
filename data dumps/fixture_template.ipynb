{
 "cells": [
  {
   "cell_type": "markdown",
   "id": "c8d315da-4183-4e76-a9b9-1b5a3ce8c346",
   "metadata": {},
   "source": [
    "<b><i>FIXTURE</i></b>"
   ]
  },
  {
   "cell_type": "code",
   "execution_count": 1,
   "id": "610f4522-d7ab-415e-abad-4299593e7f31",
   "metadata": {},
   "outputs": [],
   "source": [
    "import pandas as pd\n",
    "import requests\n",
    "import os\n",
    "import numpy as np\n",
    "\n",
    "import django\n",
    "os.environ[\"DJANGO_ALLOW_ASYNC_UNSAFE\"] = \"true\" # to be able to make async database calls from the notebook\n",
    "os.environ[\"DJANGO_SETTINGS_MODULE\"] = \"fpl.settings\"\n",
    "django.setup()"
   ]
  },
  {
   "cell_type": "code",
   "execution_count": 2,
   "id": "16b5143f-2bcf-46d3-b694-928dd0b48cc2",
   "metadata": {},
   "outputs": [],
   "source": [
    "url = 'https://fantasy.premierleague.com/api/fixtures/'\n",
    "api_result = requests.get(url).json()"
   ]
  },
  {
   "cell_type": "code",
   "execution_count": 9,
   "id": "944d6508-07d6-4e22-b913-bc9826ad98b9",
   "metadata": {
    "scrolled": true
   },
   "outputs": [],
   "source": [
    "fixtures = api_result\n",
    "df_fixtures = pd.json_normalize(fixtures)\n",
    "\n",
    "list(df_fixtures.columns)\n",
    "fixtures_colums_reorder = ['id', 'team_a', 'team_h', 'team_a_score', 'team_h_score', 'team_a_difficulty','team_h_difficulty']\n",
    "df_fixtures = df_fixtures.reindex(columns = fixtures_colums_reorder)\n",
    "df_fixtures.dropna(inplace=True)  ###WYWALA RZĘDY GDZIE NIE MA GOLI = ZOSTAJĄ TYLKO MECZE KTÓRE SIĘ ODBYŁY.\n",
    "df_fixtures.to_csv(path_or_buf='df_fixtures.csv', index = False)"
   ]
  },
  {
   "cell_type": "code",
   "execution_count": 10,
   "id": "e000cc7e-1c2d-48bb-83fc-beffda4d690c",
   "metadata": {},
   "outputs": [],
   "source": [
    "from fpl.models import Fixture\n",
    "\n",
    "for index, row in df_fixtures.iterrows():\n",
    "    f = Fixture(fixture_id=row['id'], team_h = row['team_h'], team_a = row['team_a'], team_h_difficulty = row['team_h_difficulty'], team_a_difficulty = row['team_a_difficulty'], \n",
    "            team_h_score = row['team_h_score'], team_a_score = row['team_a_score'])\n",
    "\n",
    "    f.save()"
   ]
  },
  {
   "cell_type": "code",
   "execution_count": null,
   "id": "ce4bf7c8-a7d2-46e5-af3d-9bdf34f49ed2",
   "metadata": {},
   "outputs": [],
   "source": []
  },
  {
   "cell_type": "code",
   "execution_count": null,
   "id": "2424f587-df19-43ec-a57f-ae8dc6044835",
   "metadata": {},
   "outputs": [],
   "source": []
  },
  {
   "cell_type": "code",
   "execution_count": null,
   "id": "062a4cee-99fb-4c0c-a950-68b85bd0e1d3",
   "metadata": {},
   "outputs": [],
   "source": []
  },
  {
   "cell_type": "code",
   "execution_count": null,
   "id": "f9ac70ec-c99e-483a-a6e1-9c3fa2206a86",
   "metadata": {},
   "outputs": [],
   "source": []
  },
  {
   "cell_type": "code",
   "execution_count": null,
   "id": "07dfb574-c391-418c-a8f6-911f4b622d2c",
   "metadata": {},
   "outputs": [],
   "source": []
  },
  {
   "cell_type": "code",
   "execution_count": null,
   "id": "d0102145-6d94-46cb-befb-600ae82c3bf3",
   "metadata": {},
   "outputs": [],
   "source": []
  }
 ],
 "metadata": {
  "kernelspec": {
   "display_name": "Python 3 (ipykernel)",
   "language": "python",
   "name": "python3"
  },
  "language_info": {
   "codemirror_mode": {
    "name": "ipython",
    "version": 3
   },
   "file_extension": ".py",
   "mimetype": "text/x-python",
   "name": "python",
   "nbconvert_exporter": "python",
   "pygments_lexer": "ipython3",
   "version": "3.9.19"
  }
 },
 "nbformat": 4,
 "nbformat_minor": 5
}
