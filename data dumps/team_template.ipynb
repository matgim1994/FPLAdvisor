{
 "cells": [
  {
   "cell_type": "markdown",
   "id": "60db3fe0-c16c-455a-9339-5d2c6cd027d7",
   "metadata": {},
   "source": [
    "<h2>NEW MODELS</h2>"
   ]
  },
  {
   "cell_type": "markdown",
   "id": "7a42353e-cb22-4975-8bc0-f072e1843c87",
   "metadata": {},
   "source": [
    "<b><i>TEAM</i></b>"
   ]
  },
  {
   "cell_type": "code",
   "execution_count": 60,
   "id": "5a139712-4761-4755-b03a-e12c176449f4",
   "metadata": {},
   "outputs": [],
   "source": [
    "import pandas as pd\n",
    "import requests\n",
    "import os\n",
    "import numpy as np\n",
    "\n",
    "import django\n",
    "os.environ[\"DJANGO_ALLOW_ASYNC_UNSAFE\"] = \"true\" # to be able to make async database calls from the notebook\n",
    "os.environ[\"DJANGO_SETTINGS_MODULE\"] = \"fpl.settings\"\n",
    "django.setup()"
   ]
  },
  {
   "cell_type": "code",
   "execution_count": 61,
   "id": "b2cc951f-602f-4c88-bac6-08caf1f94fbd",
   "metadata": {},
   "outputs": [],
   "source": [
    "url = 'https://fantasy.premierleague.com/api/'\n",
    "api_result = requests.get(url + 'bootstrap-static/').json()\n",
    "\n",
    "teams = api_result['teams']\n",
    "df_teams = pd.json_normalize(teams)\n",
    "\n",
    "list(df_teams.columns)\n",
    "teams_columns_reorder = ['id','name',\n",
    "                         'strength',\n",
    "                         'strength_overall_home',\n",
    "                         'strength_overall_away',\n",
    "                         'strength_attack_home',\n",
    "                         'strength_attack_away',\n",
    "                         'strength_defence_home',\n",
    "                         'strength_defence_away']\n",
    "\n",
    "df_teams = df_teams.reindex(columns=teams_columns_reorder)\n",
    "\n",
    "df_teams.to_csv(path_or_buf='df_team.csv', index = False)"
   ]
  },
  {
   "cell_type": "code",
   "execution_count": 21,
   "id": "b58602db-4b4e-45ca-bf3a-ddf24e42dee1",
   "metadata": {},
   "outputs": [],
   "source": [
    "from fpl.models import Team\n",
    "\n",
    "for index, row in df_teams.iterrows():\n",
    "    t = Team(name=row['name'], fpl_id = row['id'], strength = row['strength'], strength_overall_home = row['strength_overall_home'], strength_overall_away = row['strength_overall_away'], \n",
    "            strength_attack_home = row['strength_attack_home'], strength_attack_away = row['strength_attack_away'], strength_defence_home = row['strength_defence_home'],\n",
    "            strength_defence_away = row['strength_defence_away'])\n",
    "    t.save()"
   ]
  },
  {
   "cell_type": "markdown",
   "id": "e5151fd8-e5d1-4f1c-8193-ab251afb0fd1",
   "metadata": {},
   "source": []
  },
  {
   "cell_type": "code",
   "execution_count": 53,
   "id": "e4a1d38b-4188-4f44-8858-dbcef9b4b20a",
   "metadata": {},
   "outputs": [],
   "source": []
  },
  {
   "cell_type": "code",
   "execution_count": null,
   "id": "ba4abf0c-dc66-49c5-9f46-b04c73f30523",
   "metadata": {},
   "outputs": [],
   "source": []
  },
  {
   "cell_type": "code",
   "execution_count": null,
   "id": "adf1b256-1fed-4a3b-9b52-831a9de245a4",
   "metadata": {},
   "outputs": [],
   "source": []
  },
  {
   "cell_type": "code",
   "execution_count": null,
   "id": "e0110f5c-9839-4635-8242-e54acb6d981a",
   "metadata": {},
   "outputs": [],
   "source": []
  }
 ],
 "metadata": {
  "kernelspec": {
   "display_name": "Python 3 (ipykernel)",
   "language": "python",
   "name": "python3"
  },
  "language_info": {
   "codemirror_mode": {
    "name": "ipython",
    "version": 3
   },
   "file_extension": ".py",
   "mimetype": "text/x-python",
   "name": "python",
   "nbconvert_exporter": "python",
   "pygments_lexer": "ipython3",
   "version": "3.9.19"
  }
 },
 "nbformat": 4,
 "nbformat_minor": 5
}
