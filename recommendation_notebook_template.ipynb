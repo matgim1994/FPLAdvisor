{
 "cells": [
  {
   "cell_type": "code",
   "execution_count": 1,
   "id": "a3845985-3b09-429b-a757-3d1df95cff1d",
   "metadata": {},
   "outputs": [],
   "source": [
    "# this will autoreload your packages (i.e. if you make a change to one of your .py files, you will not need to restart your notebook - your change is dynamically imported)\n",
    "%load_ext autoreload  \n",
    "%autoreload"
   ]
  },
  {
   "cell_type": "code",
   "execution_count": 2,
   "id": "5864d220-1997-4697-a60a-6a5abe6e860b",
   "metadata": {},
   "outputs": [],
   "source": [
    "import os\n",
    "import django\n",
    "os.environ[\"DJANGO_ALLOW_ASYNC_UNSAFE\"] = \"true\" # to be able to make async database calls from the notebook\n",
    "os.environ[\"DJANGO_SETTINGS_MODULE\"] = \"fpl.settings\"\n",
    "django.setup()"
   ]
  },
  {
   "cell_type": "code",
   "execution_count": 3,
   "id": "3493396f-6c90-45ce-9878-2e6d75140e31",
   "metadata": {},
   "outputs": [],
   "source": [
    "from fpl.models import FPLManager, Player, Event, Fixture, PointsInFixture, Team\n",
    "from django.contrib.auth.models import User\n",
    "\n",
    "fpl_manager, _ = FPLManager.objects.get_or_create(fpl_manager_id=6321588)"
   ]
  },
  {
   "cell_type": "code",
   "execution_count": 4,
   "id": "98055d03",
   "metadata": {},
   "outputs": [],
   "source": [
    "# dajemy ci playerow\n",
    "for player_id in [101, 506, 114, 321, 504, 516, 526, 43, 326, 117, 60,524, 34, 602, 696]: ###DODAĆ KOD POBIERAJACY TEAM Z DANEGO GW\n",
    "    fpl_manager.players.add(Player.objects.get(fpl_id=player_id))"
   ]
  },
  {
   "cell_type": "code",
   "execution_count": 5,
   "id": "6257f8af-984c-48a5-aa79-a88737604ccc",
   "metadata": {},
   "outputs": [
    {
     "data": {
      "text/plain": [
       "<QuerySet [<Player: Mark Flekken (857)>, <Player: Alphonse Areola (927)>, <Player: Mads Roerslev Rasmussen (975)>, <Player: Alfie Doughty (1076)>, <Player: Issa Kaboré (1082)>, <Player: Murillo Santiago Costa dos Santos (1146)>, <Player: Pedro Porro (1167)>, <Player: Leon Bailey (1225)>, <Player: Douglas Luiz Soares de Paulo (1229)>, <Player: James Maddison (1524)>, <Player: Son Heung-min (1529)>, <Player: Jarrod Bowen (1534)>, <Player: Ollie Watkins (1573)>, <Player: Ivan Toney (1580)>, <Player: Carlton Morris (1626)>]>"
      ]
     },
     "execution_count": 5,
     "metadata": {},
     "output_type": "execute_result"
    }
   ],
   "source": [
    "fpl_manager.players.all()"
   ]
  },
  {
   "cell_type": "code",
   "execution_count": 6,
   "id": "592197ea",
   "metadata": {},
   "outputs": [],
   "source": [
    "from django.db.models import Q\n",
    "\n",
    "# Tworzymy dummy data (to zajmie tak z 1 minute...)\n",
    "for event in Event.objects.filter(Q(name=\"Gameweek 27\") | Q(name=\"Gameweek 28\")):\n",
    "    for fixture in event.fixture_set.all():\n",
    "        for player in Player.objects.filter(Q(team=fixture.team_h) | Q(team=fixture.team_a)):\n",
    "            PointsInFixture.objects.update_or_create(player=player, fixture=fixture, defaults={\"predicted_points\": 2 if (player.id + fixture.id) % 2 == 0 else 5, # to nic nie znaczy - po prostu ranomowe liczby\n",
    "                                                                                               \"actual_points\": 2 if (player.id + fixture.id) % 2 == 0 else 5})"
   ]
  },
  {
   "cell_type": "code",
   "execution_count": 28,
   "id": "78f4546f",
   "metadata": {},
   "outputs": [
    {
     "name": "stdout",
     "output_type": "stream",
     "text": [
      "Tyle punktow zdobylismy w 27 kolejce: 54.0\n",
      "Jezeli zagramy taka sama druzyna w 28 kolejce to tyle punktow zdobedziemy: 63.0\n",
      "Jezeli zagramy taka sama druzyna w 28 kolejce po zmianie Doughty na Osho to tyle punktow zdobedziemy: 60.0\n",
      "To dlatego ze przewiduje ze Doughty zdobedzie 5.0 punktow a Osho 2.0 punktow\n"
     ]
    }
   ],
   "source": [
    "# Zalozmy ze jestesmy w 27 kolejce i probujemy obczaic jakie transfery zrobic by zdobyc jak najwiecej punktow w 28 kolejce \n",
    "\n",
    "# Tyle punktow zdobylismy w 27 kolejce (jak na razie zakladamy ze kazdy zawodnik zagra tylko jeden mecz)\n",
    "total_points_27 = 0\n",
    "my_team = fpl_manager.players.all()\n",
    "for player in my_team:\n",
    "    total_points_27 += player.pointsinfixture_set.filter(fixture__event__name=\"Gameweek 27\").first().actual_points\n",
    "print(f\"Tyle punktow zdobylismy w 27 kolejce: {total_points_27}\")\n",
    "\n",
    "# Jezeli zagramy taka sama druzyna w 28 kolejce to tyle punktow zdobedziemy (jak na razie zakladamy ze kazdy zawodnik zagra tylko jeden mecz)\n",
    "total_points_28 = 0\n",
    "for player in my_team:\n",
    "    total_points_28 += player.pointsinfixture_set.filter(fixture__event__name=\"Gameweek 28\").first().predicted_points\n",
    "print(f\"Jezeli zagramy taka sama druzyna w 28 kolejce to tyle punktow zdobedziemy: {total_points_28}\")\n",
    "\n",
    "# Wymienmy teraz Doughty na kogos innego (np. na Gabriela Osho)\n",
    "my_team = my_team.exclude(first_name=\"Alfie\", second_name=\"Doughty\")\n",
    "assert len(my_team) == 14\n",
    "my_team = my_team | Player.objects.filter(first_name=\"Gabriel\", second_name=\"Osho\")\n",
    "assert len(my_team) == 15\n",
    "\n",
    "# Sprawdzmy ile punktow zdobedziemy w 28 kolejce po zmianie\n",
    "total_points_28_after_transfer = 0\n",
    "for player in my_team:\n",
    "    total_points_28_after_transfer += player.pointsinfixture_set.filter(fixture__event__name=\"Gameweek 28\").first().predicted_points\n",
    "print(f\"Jezeli zagramy taka sama druzyna w 28 kolejce po zmianie Doughty na Osho to tyle punktow zdobedziemy: {total_points_28_after_transfer}\")\n",
    "\n",
    "doughty_points = Player.objects.get(first_name=\"Alfie\", second_name=\"Doughty\").pointsinfixture_set.filter(fixture__event__name=\"Gameweek 28\").first().predicted_points\n",
    "osho_points = Player.objects.get(first_name=\"Gabriel\", second_name=\"Osho\").pointsinfixture_set.filter(fixture__event__name=\"Gameweek 28\").first().predicted_points\n",
    "print(f\"To dlatego ze przewidujemy ze Doughty zdobedzie {doughty_points} punktow a Osho {osho_points} punktow\")\n",
    "\n",
    "##### PYTANIE: Jakiego zawodnika zamienic na jakiego zeby zdobyc jak najwiecej punktow w 28 kolejce? #####\n"
   ]
  },
  {
   "cell_type": "code",
   "execution_count": 30,
   "id": "8909acb9",
   "metadata": {},
   "outputs": [
    {
     "name": "stdout",
     "output_type": "stream",
     "text": [
      "Replace None with None to score the most points in the 28th game week.\n"
     ]
    }
   ],
   "source": []
  },
  {
   "cell_type": "code",
   "execution_count": null,
   "id": "de6b6d91",
   "metadata": {},
   "outputs": [],
   "source": []
  }
 ],
 "metadata": {
  "kernelspec": {
   "display_name": "Python 3 (ipykernel)",
   "language": "python",
   "name": "python3"
  },
  "language_info": {
   "codemirror_mode": {
    "name": "ipython",
    "version": 3
   },
   "file_extension": ".py",
   "mimetype": "text/x-python",
   "name": "python",
   "nbconvert_exporter": "python",
   "pygments_lexer": "ipython3",
   "version": "3.9.19"
  }
 },
 "nbformat": 4,
 "nbformat_minor": 5
}
