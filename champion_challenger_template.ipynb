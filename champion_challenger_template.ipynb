{
 "cells": [
  {
   "cell_type": "code",
   "execution_count": null,
   "id": "a3845985-3b09-429b-a757-3d1df95cff1d",
   "metadata": {},
   "outputs": [],
   "source": [
    "# this will autoreload your packages (i.e. if you make a change to one of your .py files, you will not need to restart your notebook - your change is dynamically imported)\n",
    "%load_ext autoreload\n",
    "%autoreload"
   ]
  },
  {
   "cell_type": "code",
   "execution_count": null,
   "id": "5864d220-1997-4697-a60a-6a5abe6e860b",
   "metadata": {},
   "outputs": [],
   "source": [
    "import os\n",
    "import django\n",
    "os.environ[\"DJANGO_ALLOW_ASYNC_UNSAFE\"] = \"true\" # to be able to make async database calls from the notebook\n",
    "os.environ[\"DJANGO_SETTINGS_MODULE\"] = \"fpl.settings\"\n",
    "django.setup()"
   ]
  },
  {
   "cell_type": "code",
   "execution_count": null,
   "id": "ccff1842",
   "metadata": {},
   "outputs": [],
   "source": [
    "# !pip install scikit-learn"
   ]
  },
  {
   "cell_type": "code",
   "execution_count": null,
   "id": "537fdbb6",
   "metadata": {},
   "outputs": [],
   "source": [
    "from sklearn.model_selection import train_test_split\n",
    "import pandas as pd\n",
    "# Define the data\n",
    "data = {\n",
    "    'Player': ['Player1', 'Player1', 'Player1', 'Player1', 'Player1', 'Player 2', 'Player 2', 'Player 2', 'Player 2', 'Player 2'],\n",
    "    'Game': ['Game1', 'Game2', 'Game3', 'Game4', 'Game5', 'Game1', 'Game2', 'Game3', 'Game4', 'Game5'],\n",
    "    'Points': [10, 15, 20, 25, 30, 5, 10, 15, 20, 25],\n",
    "    'avg_points': [10, 12.5, 15, 20, 25, 5, 7.5, 10, 12.5, 15],\n",
    "}\n",
    "\n",
    "# Create DataFrame\n",
    "df = pd.DataFrame(data)\n",
    "\n",
    "# Define test train split\n",
    "X_train, X_test, y_train, y_test = train_test_split(df[['Points', 'avg_points']], df['Points'], test_size=0.4, random_state=0)"
   ]
  },
  {
   "cell_type": "code",
   "execution_count": null,
   "id": "54cf9d8a",
   "metadata": {},
   "outputs": [],
   "source": [
    "from sklearn.base import BaseEstimator, TransformerMixin\n",
    "from sklearn.metrics import root_mean_squared_error\n",
    "import numpy as np\n",
    "\n",
    "class MyBaselineEstimator(BaseEstimator, TransformerMixin):\n",
    "    def __init__(self, column_name):\n",
    "        self.column_name = column_name\n",
    "\n",
    "    def fit(self, X, y=None):\n",
    "        return self\n",
    "\n",
    "    def transform(self, X):\n",
    "        return X[self.column_name]\n",
    "    \n",
    "    def score(self, X, y):\n",
    "        y_pred  = self.transform(X)\n",
    "        y = y.astype(float).tolist()\n",
    "        y_pred = y_pred.astype(float).tolist()\n",
    "        return root_mean_squared_error(y, y_pred)\n",
    "    \n",
    "\n",
    "class MyChallengerEstimator(MyBaselineEstimator):\n",
    "    \n",
    "    def transform(self, X):\n",
    "        return X[self.column_name] * 2"
   ]
  },
  {
   "cell_type": "code",
   "execution_count": null,
   "id": "a56c47a7-57a6-4fd7-9d08-b14fd6e8cbf2",
   "metadata": {},
   "outputs": [],
   "source": [
    "from sklearn.pipeline import Pipeline\n",
    "\n",
    "\n",
    "pipeline_champion = Pipeline([\n",
    "    ('classifier', MyBaselineEstimator('avg_points')),\n",
    "])\n",
    "pipeline_challenger = Pipeline([\n",
    "    ('classifier', MyChallengerEstimator('avg_points')),\n",
    "])"
   ]
  },
  {
   "cell_type": "code",
   "execution_count": null,
   "id": "5d6e32ee",
   "metadata": {},
   "outputs": [],
   "source": [
    "def compare_two_pipelines_performance(pipeline_champion, pipeline_challenger,\n",
    "                                      X_train, X_test, y_train, y_test):\n",
    "    # Train pipeline1\n",
    "    pipeline_champion.fit(X_train, y_train)\n",
    "    # Train pipeline2\n",
    "    pipeline_challenger.fit(X_train, y_train)\n",
    "    # Compute the accuracy of pipeline1\n",
    "    champion_accuracy = pipeline_champion.score(X_test, y_test)\n",
    "    # Compute the accuracy of pipeline2\n",
    "    challenger_accuracy = pipeline_challenger.score(X_test, y_test)\n",
    "    print(f\"pipeline_champion accuracy: {champion_accuracy}\")\n",
    "    print(f\"pipeline_challenger accuracy: {challenger_accuracy}\")\n",
    "    return champion_accuracy, challenger_accuracy"
   ]
  },
  {
   "cell_type": "code",
   "execution_count": null,
   "id": "160262c2",
   "metadata": {},
   "outputs": [],
   "source": [
    "\n",
    "compare_two_pipelines_performance(pipeline_champion, pipeline_challenger, X_train, X_test, y_train, y_test)"
   ]
  },
  {
   "cell_type": "code",
   "execution_count": null,
   "id": "3fcc5cda",
   "metadata": {},
   "outputs": [],
   "source": []
  }
 ],
 "metadata": {
  "kernelspec": {
   "display_name": "Python 3 (ipykernel)",
   "language": "python",
   "name": "python3"
  },
  "language_info": {
   "codemirror_mode": {
    "name": "ipython",
    "version": 3
   },
   "file_extension": ".py",
   "mimetype": "text/x-python",
   "name": "python",
   "nbconvert_exporter": "python",
   "pygments_lexer": "ipython3",
   "version": "3.9.19"
  }
 },
 "nbformat": 4,
 "nbformat_minor": 5
}
