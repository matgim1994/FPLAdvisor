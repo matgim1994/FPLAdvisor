{
 "cells": [
  {
   "cell_type": "code",
   "execution_count": 3,
   "id": "a3845985-3b09-429b-a757-3d1df95cff1d",
   "metadata": {},
   "outputs": [
    {
     "name": "stdout",
     "output_type": "stream",
     "text": [
      "The autoreload extension is already loaded. To reload it, use:\n",
      "  %reload_ext autoreload\n"
     ]
    }
   ],
   "source": [
    "# this will autoreload your packages (i.e. if you make a change to one of your .py files, you will not need to restart your notebook - your change is dynamically imported)\n",
    "%load_ext autoreload\n",
    "%autoreload"
   ]
  },
  {
   "cell_type": "code",
   "execution_count": 4,
   "id": "5864d220-1997-4697-a60a-6a5abe6e860b",
   "metadata": {},
   "outputs": [],
   "source": [
    "import os\n",
    "import django\n",
    "os.environ[\"DJANGO_ALLOW_ASYNC_UNSAFE\"] = \"true\" # to be able to make async database calls from the notebook\n",
    "os.environ[\"DJANGO_SETTINGS_MODULE\"] = \"fpl.settings\"\n",
    "django.setup()"
   ]
  },
  {
   "cell_type": "code",
   "execution_count": 5,
   "id": "3493396f-6c90-45ce-9878-2e6d75140e31",
   "metadata": {},
   "outputs": [
    {
     "name": "stdout",
     "output_type": "stream",
     "text": [
      "I have 20 clubs in my database\n"
     ]
    }
   ],
   "source": [
    "from fpl.models import Club\n",
    "clubs = Club.objects.all()\n",
    "print(f\"I have {len(clubs)} clubs in my database\") "
   ]
  },
  {
   "cell_type": "code",
   "execution_count": 10,
   "id": "9c4c6f0a-01e7-4d2e-8e67-9b1e98cbcbf2",
   "metadata": {},
   "outputs": [],
   "source": [
    "import pandas as pd\n",
    "from fpl.models import OverallStatistics\n",
    "\n",
    "df_events = pd.read_csv('df_events.csv')\n"
   ]
  },
  {
   "cell_type": "code",
   "execution_count": 15,
   "id": "442bc0fa-317b-4e3b-94d9-26ea0bbe862c",
   "metadata": {},
   "outputs": [],
   "source": [
    "for index, row in df_events.iterrows():\n",
    "    e = OverallStatistics(gameweek=row['name'], average_score = row['average_entry_score'], transfers_made = row['transfers_made'])\n",
    "    e.save()\n",
    "    "
   ]
  },
  {
   "cell_type": "code",
   "execution_count": null,
   "id": "a6f68723-dcb8-4c09-96ab-1abad4cefabc",
   "metadata": {},
   "outputs": [],
   "source": []
  },
  {
   "cell_type": "code",
   "execution_count": null,
   "id": "1ca575d3-006e-499d-8699-6574bb625e16",
   "metadata": {},
   "outputs": [],
   "source": []
  },
  {
   "cell_type": "code",
   "execution_count": null,
   "id": "7a50ac0d-cc6d-4b48-99e7-2874ecefaf87",
   "metadata": {},
   "outputs": [],
   "source": []
  },
  {
   "cell_type": "code",
   "execution_count": null,
   "id": "a56c47a7-57a6-4fd7-9d08-b14fd6e8cbf2",
   "metadata": {},
   "outputs": [],
   "source": []
  }
 ],
 "metadata": {
  "kernelspec": {
   "display_name": "Python 3 (ipykernel)",
   "language": "python",
   "name": "python3"
  },
  "language_info": {
   "codemirror_mode": {
    "name": "ipython",
    "version": 3
   },
   "file_extension": ".py",
   "mimetype": "text/x-python",
   "name": "python",
   "nbconvert_exporter": "python",
   "pygments_lexer": "ipython3",
   "version": "3.9.18"
  }
 },
 "nbformat": 4,
 "nbformat_minor": 5
}
